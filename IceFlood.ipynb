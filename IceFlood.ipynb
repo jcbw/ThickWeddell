{
 "cells": [
  {
   "cell_type": "markdown",
   "id": "dab4f5d3-ab45-4065-8310-3a65fda63951",
   "metadata": {
    "user_expressions": []
   },
   "source": [
    "## Flooded ice in the Weddell Sea\n",
    "\n",
    "We're interested in looking at flooded ice in the Weddell sea for a number of reasons, one specific reason is that snow ice is derived from flooded ice processes. This snow ice is an indirect freshwater input in the global system. Here, we're just looking at the ice thickness from one track in the Weddell Sea.\n"
   ]
  },
  {
   "cell_type": "code",
   "execution_count": null,
   "id": "2bbe523f-9e47-45fb-af63-e9e7956abd08",
   "metadata": {
    "tags": []
   },
   "outputs": [],
   "source": [
    "pip install astropy"
   ]
  },
  {
   "cell_type": "code",
   "execution_count": null,
   "id": "d0a71537-acb3-4dda-9abc-e6c4ddd84a79",
   "metadata": {
    "tags": []
   },
   "outputs": [],
   "source": [
    "pip install reader"
   ]
  },
  {
   "cell_type": "code",
   "execution_count": null,
   "id": "887bbbae-25f3-4e3c-9a02-5b4cd2e0076c",
   "metadata": {
    "tags": []
   },
   "outputs": [],
   "source": [
    "pip install metpy"
   ]
  },
  {
   "cell_type": "code",
   "execution_count": 27,
   "id": "b841987e-3008-4234-a527-6cc0bfda6994",
   "metadata": {
    "tags": []
   },
   "outputs": [],
   "source": [
    "import h5py\n",
    "import numpy as np\n",
    "import pandas as pd\n",
    "import matplotlib.pyplot as plt\n",
    "import IS2view\n",
    "import pprint\n",
    "import metpy\n",
    "from metpy.plots.declarative import (BarbPlot, ContourPlot, FilledContourPlot, MapPanel,\n",
    "                                     PanelContainer, PlotObs)\n",
    "import scipy\n",
    "from astropy.time import Time\n",
    "#import utils as ut\n",
    "#import reader as rd\n",
    "import icepyx as ipx\n",
    "import earthaccess\n",
    "import h5py\n",
    "\n",
    "import geopandas as gpd\n",
    "from shapely.geometry import Point\n",
    "import os\n",
    "import seaborn as sns\n",
    "import xarray as xr\n",
    "import hvplot.xarray\n",
    "%matplotlib inline"
   ]
  },
  {
   "cell_type": "code",
   "execution_count": 8,
   "id": "1a735c04-7123-42f9-87d8-a123510b2c24",
   "metadata": {
    "tags": []
   },
   "outputs": [
    {
     "name": "stdout",
     "output_type": "stream",
     "text": [
      "EARTHDATA_USERNAME and EARTHDATA_PASSWORD are not set in the current environment, try setting them or use a different strategy (netrc, interactive)\n",
      "No .netrc found in /home/jovyan\n"
     ]
    },
    {
     "name": "stdin",
     "output_type": "stream",
     "text": [
      "Enter your Earthdata Login username:  julliancbw9\n",
      "Enter your Earthdata password:  ········\n"
     ]
    },
    {
     "name": "stdout",
     "output_type": "stream",
     "text": [
      "You're now authenticated with NASA Earthdata Login\n",
      "Using token with expiration date: 10/07/2023\n",
      "Using user provided credentials for EDL\n"
     ]
    }
   ],
   "source": [
    "auth = earthaccess.login()\n",
    "# attempt to use cloud streaming if in us-west-2\n",
    "try:\n",
    "    provider = \"NSIDC_CPRD\"\n",
    "    asset = \"nsidc-s3\"\n",
    "    fs = earthaccess.get_s3fs_session(provider=provider)\n",
    "except (AttributeError, NameError) as exc:\n",
    "    provider = \"NSIDC_ECS\"\n",
    "\n",
    "    asset = \"nsidc-https\""
   ]
  },
  {
   "cell_type": "code",
   "execution_count": 5,
   "id": "32414e80-ab3e-4835-986c-2f6f4cf7429c",
   "metadata": {
    "tags": []
   },
   "outputs": [],
   "source": [
    "# spatial extent -54.15,-74.88,-35.14,-69.71"
   ]
  },
  {
   "cell_type": "code",
   "execution_count": 37,
   "id": "8d042a2e-2e66-4bc9-bb74-e82095657951",
   "metadata": {
    "tags": []
   },
   "outputs": [],
   "source": [
    "result = ipx.Query(\n",
    "    product=\"ATL10\",\n",
    "    spatial_extent = [-54.15,-74.88,-35.14,-69.71],\n",
    "    date_range = ['2020-03-01','2020-03-30'],\n",
    ")"
   ]
  },
  {
   "cell_type": "code",
   "execution_count": 38,
   "id": "12f594cf-429f-4d12-88ca-863093e420ef",
   "metadata": {
    "tags": []
   },
   "outputs": [
    {
     "data": {
      "text/plain": [
       "{'Number of available granules': 52,\n",
       " 'Average size of granules (MB)': 37.21873215528077,\n",
       " 'Total size of all granules (MB)': 1935.3740720745996}"
      ]
     },
     "execution_count": 38,
     "metadata": {},
     "output_type": "execute_result"
    }
   ],
   "source": [
    "gran_id = result.avail_granules()\n",
    "gran_id"
   ]
  },
  {
   "cell_type": "code",
   "execution_count": 39,
   "id": "a0fbd9e9-6418-4c39-83e0-f928b9373abc",
   "metadata": {
    "tags": []
   },
   "outputs": [
    {
     "data": {
      "text/plain": [
       "['s3://nsidc-cumulus-prod-protected/ATLAS/ATL10/006/2020/03/01/ATL10-02_20200301043422_10000601_006_01.h5',\n",
       " 's3://nsidc-cumulus-prod-protected/ATLAS/ATL10/006/2020/03/01/ATL10-02_20200301170841_10080601_006_01.h5',\n",
       " 's3://nsidc-cumulus-prod-protected/ATLAS/ATL10/006/2020/03/02/ATL10-02_20200302040842_10150601_006_01.h5',\n",
       " 's3://nsidc-cumulus-prod-protected/ATLAS/ATL10/006/2020/03/02/ATL10-02_20200302181718_10240601_006_01.h5',\n",
       " 's3://nsidc-cumulus-prod-protected/ATLAS/ATL10/006/2020/03/03/ATL10-02_20200303051719_10310601_006_01.h5',\n",
       " 's3://nsidc-cumulus-prod-protected/ATLAS/ATL10/006/2020/03/03/ATL10-02_20200303175138_10390601_006_01.h5',\n",
       " 's3://nsidc-cumulus-prod-protected/ATLAS/ATL10/006/2020/03/04/ATL10-02_20200304045140_10460601_006_01.h5',\n",
       " 's3://nsidc-cumulus-prod-protected/ATLAS/ATL10/006/2020/03/04/ATL10-02_20200304172558_10540601_006_01.h5',\n",
       " 's3://nsidc-cumulus-prod-protected/ATLAS/ATL10/006/2020/03/05/ATL10-02_20200305042601_10610601_006_01.h5',\n",
       " 's3://nsidc-cumulus-prod-protected/ATLAS/ATL10/006/2020/03/06/ATL10-02_20200306040022_10760601_006_01.h5',\n",
       " 's3://nsidc-cumulus-prod-protected/ATLAS/ATL10/006/2020/03/07/ATL10-02_20200307050901_10920601_006_01.h5',\n",
       " 's3://nsidc-cumulus-prod-protected/ATLAS/ATL10/006/2020/03/08/ATL10-02_20200308171742_11150601_006_01.h5',\n",
       " 's3://nsidc-cumulus-prod-protected/ATLAS/ATL10/006/2020/03/09/ATL10-02_20200309041744_11220601_006_01.h5',\n",
       " 's3://nsidc-cumulus-prod-protected/ATLAS/ATL10/006/2020/03/09/ATL10-02_20200309165203_11300601_006_01.h5',\n",
       " 's3://nsidc-cumulus-prod-protected/ATLAS/ATL10/006/2020/03/10/ATL10-02_20200310035206_11370601_006_01.h5',\n",
       " 's3://nsidc-cumulus-prod-protected/ATLAS/ATL10/006/2020/03/10/ATL10-02_20200310162625_11450601_006_01.h5',\n",
       " 's3://nsidc-cumulus-prod-protected/ATLAS/ATL10/006/2020/03/11/ATL10-02_20200311050044_11530601_006_01.h5',\n",
       " 's3://nsidc-cumulus-prod-protected/ATLAS/ATL10/006/2020/03/11/ATL10-02_20200311173504_11610601_006_01.h5',\n",
       " 's3://nsidc-cumulus-prod-protected/ATLAS/ATL10/006/2020/03/12/ATL10-02_20200312043505_11680601_006_01.h5',\n",
       " 's3://nsidc-cumulus-prod-protected/ATLAS/ATL10/006/2020/03/12/ATL10-02_20200312170925_11760601_006_01.h5',\n",
       " 's3://nsidc-cumulus-prod-protected/ATLAS/ATL10/006/2020/03/13/ATL10-02_20200313040926_11830601_006_01.h5',\n",
       " 's3://nsidc-cumulus-prod-protected/ATLAS/ATL10/006/2020/03/13/ATL10-02_20200313164345_11910601_006_01.h5',\n",
       " 's3://nsidc-cumulus-prod-protected/ATLAS/ATL10/006/2020/03/14/ATL10-02_20200314034347_11980601_006_01.h5',\n",
       " 's3://nsidc-cumulus-prod-protected/ATLAS/ATL10/006/2020/03/14/ATL10-02_20200314161806_12060601_006_01.h5',\n",
       " 's3://nsidc-cumulus-prod-protected/ATLAS/ATL10/006/2020/03/15/ATL10-02_20200315045226_12140601_006_01.h5',\n",
       " 's3://nsidc-cumulus-prod-protected/ATLAS/ATL10/006/2020/03/15/ATL10-02_20200315172645_12220601_006_01.h5',\n",
       " 's3://nsidc-cumulus-prod-protected/ATLAS/ATL10/006/2020/03/16/ATL10-02_20200316042647_12290601_006_01.h5',\n",
       " 's3://nsidc-cumulus-prod-protected/ATLAS/ATL10/006/2020/03/16/ATL10-02_20200316170106_12370601_006_01.h5',\n",
       " 's3://nsidc-cumulus-prod-protected/ATLAS/ATL10/006/2020/03/17/ATL10-02_20200317163526_12520601_006_01.h5',\n",
       " 's3://nsidc-cumulus-prod-protected/ATLAS/ATL10/006/2020/03/18/ATL10-02_20200318033528_12590601_006_01.h5',\n",
       " 's3://nsidc-cumulus-prod-protected/ATLAS/ATL10/006/2020/03/18/ATL10-02_20200318160947_12670601_006_01.h5',\n",
       " 's3://nsidc-cumulus-prod-protected/ATLAS/ATL10/006/2020/03/19/ATL10-02_20200319044406_12750601_006_01.h5',\n",
       " 's3://nsidc-cumulus-prod-protected/ATLAS/ATL10/006/2020/03/19/ATL10-02_20200319171824_12830601_006_01.h5',\n",
       " 's3://nsidc-cumulus-prod-protected/ATLAS/ATL10/006/2020/03/20/ATL10-02_20200320041826_12900601_006_01.h5',\n",
       " 's3://nsidc-cumulus-prod-protected/ATLAS/ATL10/006/2020/03/20/ATL10-02_20200320165245_12980601_006_01.h5',\n",
       " 's3://nsidc-cumulus-prod-protected/ATLAS/ATL10/006/2020/03/21/ATL10-02_20200321035246_13050601_006_01.h5',\n",
       " 's3://nsidc-cumulus-prod-protected/ATLAS/ATL10/006/2020/03/21/ATL10-02_20200321162705_13130601_006_01.h5',\n",
       " 's3://nsidc-cumulus-prod-protected/ATLAS/ATL10/006/2020/03/22/ATL10-02_20200322032706_13200601_006_01.h5',\n",
       " 's3://nsidc-cumulus-prod-protected/ATLAS/ATL10/006/2020/03/23/ATL10-02_20200323043543_13360601_006_01.h5',\n",
       " 's3://nsidc-cumulus-prod-protected/ATLAS/ATL10/006/2020/03/24/ATL10-02_20200324041002_13510601_006_01.h5',\n",
       " 's3://nsidc-cumulus-prod-protected/ATLAS/ATL10/006/2020/03/24/ATL10-02_20200324164421_13590601_006_01.h5',\n",
       " 's3://nsidc-cumulus-prod-protected/ATLAS/ATL10/006/2020/03/25/ATL10-02_20200325034422_13660601_006_01.h5',\n",
       " 's3://nsidc-cumulus-prod-protected/ATLAS/ATL10/006/2020/03/25/ATL10-02_20200325161841_13740601_006_01.h5',\n",
       " 's3://nsidc-cumulus-prod-protected/ATLAS/ATL10/006/2020/03/26/ATL10-02_20200326031842_13810601_006_01.h5',\n",
       " 's3://nsidc-cumulus-prod-protected/ATLAS/ATL10/006/2020/03/26/ATL10-02_20200326155301_00020701_006_01.h5',\n",
       " 's3://nsidc-cumulus-prod-protected/ATLAS/ATL10/006/2020/03/27/ATL10-02_20200327170140_00180701_006_01.h5',\n",
       " 's3://nsidc-cumulus-prod-protected/ATLAS/ATL10/006/2020/03/28/ATL10-02_20200328040142_00250701_006_01.h5',\n",
       " 's3://nsidc-cumulus-prod-protected/ATLAS/ATL10/006/2020/03/28/ATL10-02_20200328163601_00330701_006_01.h5',\n",
       " 's3://nsidc-cumulus-prod-protected/ATLAS/ATL10/006/2020/03/29/ATL10-02_20200329033603_00400701_006_01.h5',\n",
       " 's3://nsidc-cumulus-prod-protected/ATLAS/ATL10/006/2020/03/29/ATL10-02_20200329161022_00480701_006_01.h5',\n",
       " 's3://nsidc-cumulus-prod-protected/ATLAS/ATL10/006/2020/03/30/ATL10-02_20200330031021_00550701_006_01.h5',\n",
       " 's3://nsidc-cumulus-prod-protected/ATLAS/ATL10/006/2020/03/30/ATL10-02_20200330154440_00630701_006_01.h5']"
      ]
     },
     "execution_count": 39,
     "metadata": {},
     "output_type": "execute_result"
    }
   ],
   "source": [
    "result = ipx.Query(\n",
    "    product=\"ATL10\",\n",
    "    spatial_extent = [-54.15,-74.88,-35.14,-69.71],\n",
    "    date_range = ['2020-03-01','2020-03-30'],\n",
    ")\n",
    "s3links = result.avail_granules(cloud=True)[0]  # returns a nested list, get first element\n",
    "s3links"
   ]
  },
  {
   "cell_type": "code",
   "execution_count": 40,
   "id": "444e5df9-0795-4f9d-be4e-3315bdd903e0",
   "metadata": {
    "tags": []
   },
   "outputs": [
    {
     "name": "stdout",
     "output_type": "stream",
     "text": [
      "Granules found: 51\n"
     ]
    }
   ],
   "source": [
    "result = earthaccess.search_data(\n",
    "    short_name = 'ATL10',\n",
    "    version = '005',\n",
    "    cloud_hosted = True,\n",
    "    bounding_box = (-54.15,-74.88,-35.14,-69.71),\n",
    "    temporal = ('2020-03-01','2020-03-30'),\n",
    "    count = 100\n",
    ")"
   ]
  },
  {
   "cell_type": "code",
   "execution_count": 42,
   "id": "917cce5c-fe67-428a-ab00-21dae5ee915d",
   "metadata": {
    "tags": []
   },
   "outputs": [
    {
     "ename": "AttributeError",
     "evalue": "'NoneType' object has no attribute 'open'",
     "output_type": "error",
     "traceback": [
      "\u001b[0;31m---------------------------------------------------------------------------\u001b[0m",
      "\u001b[0;31mAttributeError\u001b[0m                            Traceback (most recent call last)",
      "Cell \u001b[0;32mIn [42], line 1\u001b[0m\n\u001b[0;32m----> 1\u001b[0m files \u001b[38;5;241m=\u001b[39m \u001b[43mearthaccess\u001b[49m\u001b[38;5;241;43m.\u001b[39;49m\u001b[43mopen\u001b[49m\u001b[43m(\u001b[49m\u001b[43mresult\u001b[49m\u001b[43m)\u001b[49m\n\u001b[1;32m      2\u001b[0m ds \u001b[38;5;241m=\u001b[39m xr\u001b[38;5;241m.\u001b[39mopen_dataset(files[\u001b[38;5;241m49\u001b[39m],group\u001b[38;5;241m=\u001b[39m\u001b[38;5;124m'\u001b[39m\u001b[38;5;124m/gt3r/freeboard_beam_segment\u001b[39m\u001b[38;5;124m'\u001b[39m)\n",
      "File \u001b[0;32m/srv/conda/envs/notebook/lib/python3.10/site-packages/earthaccess/api.py:189\u001b[0m, in \u001b[0;36mopen\u001b[0;34m(granules, provider)\u001b[0m\n\u001b[1;32m    176\u001b[0m \u001b[38;5;28;01mdef\u001b[39;00m \u001b[38;5;21mopen\u001b[39m(\n\u001b[1;32m    177\u001b[0m     granules: Union[List[\u001b[38;5;28mstr\u001b[39m], List[earthaccess\u001b[38;5;241m.\u001b[39mresults\u001b[38;5;241m.\u001b[39mDataGranule]],\n\u001b[1;32m    178\u001b[0m     provider: Optional[\u001b[38;5;28mstr\u001b[39m] \u001b[38;5;241m=\u001b[39m \u001b[38;5;28;01mNone\u001b[39;00m,\n\u001b[1;32m    179\u001b[0m ) \u001b[38;5;241m-\u001b[39m\u001b[38;5;241m>\u001b[39m List[AbstractFileSystem]:\n\u001b[1;32m    180\u001b[0m \u001b[38;5;250m    \u001b[39m\u001b[38;5;124;03m\"\"\"Returns a list of fsspec file-like objects that can be used to access files\u001b[39;00m\n\u001b[1;32m    181\u001b[0m \u001b[38;5;124;03m    hosted on S3 or HTTPS by third party libraries like xarray.\u001b[39;00m\n\u001b[1;32m    182\u001b[0m \n\u001b[0;32m   (...)\u001b[0m\n\u001b[1;32m    187\u001b[0m \u001b[38;5;124;03m        a list of s3fs \"file pointers\" to s3 files.\u001b[39;00m\n\u001b[1;32m    188\u001b[0m \u001b[38;5;124;03m    \"\"\"\u001b[39;00m\n\u001b[0;32m--> 189\u001b[0m     results \u001b[38;5;241m=\u001b[39m \u001b[43mearthaccess\u001b[49m\u001b[38;5;241;43m.\u001b[39;49m\u001b[43m__store__\u001b[49m\u001b[38;5;241;43m.\u001b[39;49m\u001b[43mopen\u001b[49m(granules\u001b[38;5;241m=\u001b[39mgranules, provider\u001b[38;5;241m=\u001b[39mprovider)\n\u001b[1;32m    190\u001b[0m     \u001b[38;5;28;01mreturn\u001b[39;00m results\n",
      "\u001b[0;31mAttributeError\u001b[0m: 'NoneType' object has no attribute 'open'"
     ]
    }
   ],
   "source": [
    "files = earthaccess.open(result)\n",
    "ds = xr.open_dataset(files[49],group='/gt3r/freeboard_beam_segment')"
   ]
  },
  {
   "cell_type": "code",
   "execution_count": null,
   "id": "6958e0aa-3a8b-4c10-994c-3cf06c8c659c",
   "metadata": {
    "tags": []
   },
   "outputs": [],
   "source": [
    "[display(r) for r in result] #map plots"
   ]
  },
  {
   "cell_type": "code",
   "execution_count": 111,
   "id": "ad18c6ac-eecb-47c6-bd0e-d715e7d5450d",
   "metadata": {
    "tags": []
   },
   "outputs": [
    {
     "data": {
      "text/html": [
       "<div><svg style=\"position: absolute; width: 0; height: 0; overflow: hidden\">\n",
       "<defs>\n",
       "<symbol id=\"icon-database\" viewBox=\"0 0 32 32\">\n",
       "<path d=\"M16 0c-8.837 0-16 2.239-16 5v4c0 2.761 7.163 5 16 5s16-2.239 16-5v-4c0-2.761-7.163-5-16-5z\"></path>\n",
       "<path d=\"M16 17c-8.837 0-16-2.239-16-5v6c0 2.761 7.163 5 16 5s16-2.239 16-5v-6c0 2.761-7.163 5-16 5z\"></path>\n",
       "<path d=\"M16 26c-8.837 0-16-2.239-16-5v6c0 2.761 7.163 5 16 5s16-2.239 16-5v-6c0 2.761-7.163 5-16 5z\"></path>\n",
       "</symbol>\n",
       "<symbol id=\"icon-file-text2\" viewBox=\"0 0 32 32\">\n",
       "<path d=\"M28.681 7.159c-0.694-0.947-1.662-2.053-2.724-3.116s-2.169-2.030-3.116-2.724c-1.612-1.182-2.393-1.319-2.841-1.319h-15.5c-1.378 0-2.5 1.121-2.5 2.5v27c0 1.378 1.122 2.5 2.5 2.5h23c1.378 0 2.5-1.122 2.5-2.5v-19.5c0-0.448-0.137-1.23-1.319-2.841zM24.543 5.457c0.959 0.959 1.712 1.825 2.268 2.543h-4.811v-4.811c0.718 0.556 1.584 1.309 2.543 2.268zM28 29.5c0 0.271-0.229 0.5-0.5 0.5h-23c-0.271 0-0.5-0.229-0.5-0.5v-27c0-0.271 0.229-0.5 0.5-0.5 0 0 15.499-0 15.5 0v7c0 0.552 0.448 1 1 1h7v19.5z\"></path>\n",
       "<path d=\"M23 26h-14c-0.552 0-1-0.448-1-1s0.448-1 1-1h14c0.552 0 1 0.448 1 1s-0.448 1-1 1z\"></path>\n",
       "<path d=\"M23 22h-14c-0.552 0-1-0.448-1-1s0.448-1 1-1h14c0.552 0 1 0.448 1 1s-0.448 1-1 1z\"></path>\n",
       "<path d=\"M23 18h-14c-0.552 0-1-0.448-1-1s0.448-1 1-1h14c0.552 0 1 0.448 1 1s-0.448 1-1 1z\"></path>\n",
       "</symbol>\n",
       "</defs>\n",
       "</svg>\n",
       "<style>/* CSS stylesheet for displaying xarray objects in jupyterlab.\n",
       " *\n",
       " */\n",
       "\n",
       ":root {\n",
       "  --xr-font-color0: var(--jp-content-font-color0, rgba(0, 0, 0, 1));\n",
       "  --xr-font-color2: var(--jp-content-font-color2, rgba(0, 0, 0, 0.54));\n",
       "  --xr-font-color3: var(--jp-content-font-color3, rgba(0, 0, 0, 0.38));\n",
       "  --xr-border-color: var(--jp-border-color2, #e0e0e0);\n",
       "  --xr-disabled-color: var(--jp-layout-color3, #bdbdbd);\n",
       "  --xr-background-color: var(--jp-layout-color0, white);\n",
       "  --xr-background-color-row-even: var(--jp-layout-color1, white);\n",
       "  --xr-background-color-row-odd: var(--jp-layout-color2, #eeeeee);\n",
       "}\n",
       "\n",
       "html[theme=dark],\n",
       "body[data-theme=dark],\n",
       "body.vscode-dark {\n",
       "  --xr-font-color0: rgba(255, 255, 255, 1);\n",
       "  --xr-font-color2: rgba(255, 255, 255, 0.54);\n",
       "  --xr-font-color3: rgba(255, 255, 255, 0.38);\n",
       "  --xr-border-color: #1F1F1F;\n",
       "  --xr-disabled-color: #515151;\n",
       "  --xr-background-color: #111111;\n",
       "  --xr-background-color-row-even: #111111;\n",
       "  --xr-background-color-row-odd: #313131;\n",
       "}\n",
       "\n",
       ".xr-wrap {\n",
       "  display: block !important;\n",
       "  min-width: 300px;\n",
       "  max-width: 700px;\n",
       "}\n",
       "\n",
       ".xr-text-repr-fallback {\n",
       "  /* fallback to plain text repr when CSS is not injected (untrusted notebook) */\n",
       "  display: none;\n",
       "}\n",
       "\n",
       ".xr-header {\n",
       "  padding-top: 6px;\n",
       "  padding-bottom: 6px;\n",
       "  margin-bottom: 4px;\n",
       "  border-bottom: solid 1px var(--xr-border-color);\n",
       "}\n",
       "\n",
       ".xr-header > div,\n",
       ".xr-header > ul {\n",
       "  display: inline;\n",
       "  margin-top: 0;\n",
       "  margin-bottom: 0;\n",
       "}\n",
       "\n",
       ".xr-obj-type,\n",
       ".xr-array-name {\n",
       "  margin-left: 2px;\n",
       "  margin-right: 10px;\n",
       "}\n",
       "\n",
       ".xr-obj-type {\n",
       "  color: var(--xr-font-color2);\n",
       "}\n",
       "\n",
       ".xr-sections {\n",
       "  padding-left: 0 !important;\n",
       "  display: grid;\n",
       "  grid-template-columns: 150px auto auto 1fr 20px 20px;\n",
       "}\n",
       "\n",
       ".xr-section-item {\n",
       "  display: contents;\n",
       "}\n",
       "\n",
       ".xr-section-item input {\n",
       "  display: none;\n",
       "}\n",
       "\n",
       ".xr-section-item input + label {\n",
       "  color: var(--xr-disabled-color);\n",
       "}\n",
       "\n",
       ".xr-section-item input:enabled + label {\n",
       "  cursor: pointer;\n",
       "  color: var(--xr-font-color2);\n",
       "}\n",
       "\n",
       ".xr-section-item input:enabled + label:hover {\n",
       "  color: var(--xr-font-color0);\n",
       "}\n",
       "\n",
       ".xr-section-summary {\n",
       "  grid-column: 1;\n",
       "  color: var(--xr-font-color2);\n",
       "  font-weight: 500;\n",
       "}\n",
       "\n",
       ".xr-section-summary > span {\n",
       "  display: inline-block;\n",
       "  padding-left: 0.5em;\n",
       "}\n",
       "\n",
       ".xr-section-summary-in:disabled + label {\n",
       "  color: var(--xr-font-color2);\n",
       "}\n",
       "\n",
       ".xr-section-summary-in + label:before {\n",
       "  display: inline-block;\n",
       "  content: '►';\n",
       "  font-size: 11px;\n",
       "  width: 15px;\n",
       "  text-align: center;\n",
       "}\n",
       "\n",
       ".xr-section-summary-in:disabled + label:before {\n",
       "  color: var(--xr-disabled-color);\n",
       "}\n",
       "\n",
       ".xr-section-summary-in:checked + label:before {\n",
       "  content: '▼';\n",
       "}\n",
       "\n",
       ".xr-section-summary-in:checked + label > span {\n",
       "  display: none;\n",
       "}\n",
       "\n",
       ".xr-section-summary,\n",
       ".xr-section-inline-details {\n",
       "  padding-top: 4px;\n",
       "  padding-bottom: 4px;\n",
       "}\n",
       "\n",
       ".xr-section-inline-details {\n",
       "  grid-column: 2 / -1;\n",
       "}\n",
       "\n",
       ".xr-section-details {\n",
       "  display: none;\n",
       "  grid-column: 1 / -1;\n",
       "  margin-bottom: 5px;\n",
       "}\n",
       "\n",
       ".xr-section-summary-in:checked ~ .xr-section-details {\n",
       "  display: contents;\n",
       "}\n",
       "\n",
       ".xr-array-wrap {\n",
       "  grid-column: 1 / -1;\n",
       "  display: grid;\n",
       "  grid-template-columns: 20px auto;\n",
       "}\n",
       "\n",
       ".xr-array-wrap > label {\n",
       "  grid-column: 1;\n",
       "  vertical-align: top;\n",
       "}\n",
       "\n",
       ".xr-preview {\n",
       "  color: var(--xr-font-color3);\n",
       "}\n",
       "\n",
       ".xr-array-preview,\n",
       ".xr-array-data {\n",
       "  padding: 0 5px !important;\n",
       "  grid-column: 2;\n",
       "}\n",
       "\n",
       ".xr-array-data,\n",
       ".xr-array-in:checked ~ .xr-array-preview {\n",
       "  display: none;\n",
       "}\n",
       "\n",
       ".xr-array-in:checked ~ .xr-array-data,\n",
       ".xr-array-preview {\n",
       "  display: inline-block;\n",
       "}\n",
       "\n",
       ".xr-dim-list {\n",
       "  display: inline-block !important;\n",
       "  list-style: none;\n",
       "  padding: 0 !important;\n",
       "  margin: 0;\n",
       "}\n",
       "\n",
       ".xr-dim-list li {\n",
       "  display: inline-block;\n",
       "  padding: 0;\n",
       "  margin: 0;\n",
       "}\n",
       "\n",
       ".xr-dim-list:before {\n",
       "  content: '(';\n",
       "}\n",
       "\n",
       ".xr-dim-list:after {\n",
       "  content: ')';\n",
       "}\n",
       "\n",
       ".xr-dim-list li:not(:last-child):after {\n",
       "  content: ',';\n",
       "  padding-right: 5px;\n",
       "}\n",
       "\n",
       ".xr-has-index {\n",
       "  font-weight: bold;\n",
       "}\n",
       "\n",
       ".xr-var-list,\n",
       ".xr-var-item {\n",
       "  display: contents;\n",
       "}\n",
       "\n",
       ".xr-var-item > div,\n",
       ".xr-var-item label,\n",
       ".xr-var-item > .xr-var-name span {\n",
       "  background-color: var(--xr-background-color-row-even);\n",
       "  margin-bottom: 0;\n",
       "}\n",
       "\n",
       ".xr-var-item > .xr-var-name:hover span {\n",
       "  padding-right: 5px;\n",
       "}\n",
       "\n",
       ".xr-var-list > li:nth-child(odd) > div,\n",
       ".xr-var-list > li:nth-child(odd) > label,\n",
       ".xr-var-list > li:nth-child(odd) > .xr-var-name span {\n",
       "  background-color: var(--xr-background-color-row-odd);\n",
       "}\n",
       "\n",
       ".xr-var-name {\n",
       "  grid-column: 1;\n",
       "}\n",
       "\n",
       ".xr-var-dims {\n",
       "  grid-column: 2;\n",
       "}\n",
       "\n",
       ".xr-var-dtype {\n",
       "  grid-column: 3;\n",
       "  text-align: right;\n",
       "  color: var(--xr-font-color2);\n",
       "}\n",
       "\n",
       ".xr-var-preview {\n",
       "  grid-column: 4;\n",
       "}\n",
       "\n",
       ".xr-index-preview {\n",
       "  grid-column: 2 / 5;\n",
       "  color: var(--xr-font-color2);\n",
       "}\n",
       "\n",
       ".xr-var-name,\n",
       ".xr-var-dims,\n",
       ".xr-var-dtype,\n",
       ".xr-preview,\n",
       ".xr-attrs dt {\n",
       "  white-space: nowrap;\n",
       "  overflow: hidden;\n",
       "  text-overflow: ellipsis;\n",
       "  padding-right: 10px;\n",
       "}\n",
       "\n",
       ".xr-var-name:hover,\n",
       ".xr-var-dims:hover,\n",
       ".xr-var-dtype:hover,\n",
       ".xr-attrs dt:hover {\n",
       "  overflow: visible;\n",
       "  width: auto;\n",
       "  z-index: 1;\n",
       "}\n",
       "\n",
       ".xr-var-attrs,\n",
       ".xr-var-data,\n",
       ".xr-index-data {\n",
       "  display: none;\n",
       "  background-color: var(--xr-background-color) !important;\n",
       "  padding-bottom: 5px !important;\n",
       "}\n",
       "\n",
       ".xr-var-attrs-in:checked ~ .xr-var-attrs,\n",
       ".xr-var-data-in:checked ~ .xr-var-data,\n",
       ".xr-index-data-in:checked ~ .xr-index-data {\n",
       "  display: block;\n",
       "}\n",
       "\n",
       ".xr-var-data > table {\n",
       "  float: right;\n",
       "}\n",
       "\n",
       ".xr-var-name span,\n",
       ".xr-var-data,\n",
       ".xr-index-name div,\n",
       ".xr-index-data,\n",
       ".xr-attrs {\n",
       "  padding-left: 25px !important;\n",
       "}\n",
       "\n",
       ".xr-attrs,\n",
       ".xr-var-attrs,\n",
       ".xr-var-data,\n",
       ".xr-index-data {\n",
       "  grid-column: 1 / -1;\n",
       "}\n",
       "\n",
       "dl.xr-attrs {\n",
       "  padding: 0;\n",
       "  margin: 0;\n",
       "  display: grid;\n",
       "  grid-template-columns: 125px auto;\n",
       "}\n",
       "\n",
       ".xr-attrs dt,\n",
       ".xr-attrs dd {\n",
       "  padding: 0;\n",
       "  margin: 0;\n",
       "  float: left;\n",
       "  padding-right: 10px;\n",
       "  width: auto;\n",
       "}\n",
       "\n",
       ".xr-attrs dt {\n",
       "  font-weight: normal;\n",
       "  grid-column: 1;\n",
       "}\n",
       "\n",
       ".xr-attrs dt:hover span {\n",
       "  display: inline-block;\n",
       "  background: var(--xr-background-color);\n",
       "  padding-right: 10px;\n",
       "}\n",
       "\n",
       ".xr-attrs dd {\n",
       "  grid-column: 2;\n",
       "  white-space: pre-wrap;\n",
       "  word-break: break-all;\n",
       "}\n",
       "\n",
       ".xr-icon-database,\n",
       ".xr-icon-file-text2,\n",
       ".xr-no-icon {\n",
       "  display: inline-block;\n",
       "  vertical-align: middle;\n",
       "  width: 1em;\n",
       "  height: 1.5em !important;\n",
       "  stroke-width: 0;\n",
       "  stroke: currentColor;\n",
       "  fill: currentColor;\n",
       "}\n",
       "</style><pre class='xr-text-repr-fallback'>&lt;xarray.Dataset&gt;\n",
       "Dimensions:                        (delta_time: 134, ds_si_hist_bins: 161)\n",
       "Coordinates:\n",
       "  * delta_time                     (delta_time) datetime64[ns] 2020-03-29T04:...\n",
       "  * ds_si_hist_bins                (ds_si_hist_bins) int32 1 2 3 ... 159 160 161\n",
       "    latitude                       (delta_time) float64 -67.66 -67.75 ... -65.26\n",
       "    longitude                      (delta_time) float64 ...\n",
       "Data variables: (12/16)\n",
       "    beam_fb_height                 (delta_time) float32 nan nan ... nan nan\n",
       "    beam_fb_hist                   (delta_time, ds_si_hist_bins) int16 ...\n",
       "    beam_fb_length                 (delta_time) float32 ...\n",
       "    beam_fb_sigma                  (delta_time) float32 ...\n",
       "    beam_lead_n                    (delta_time) int32 ...\n",
       "    beam_lead_ndx                  (delta_time) int32 ...\n",
       "    ...                             ...\n",
       "    beam_refsurf_geoid_free2mean   (delta_time) float32 ...\n",
       "    beam_refsurf_height            (delta_time) float32 ...\n",
       "    beam_refsurf_interp_flag       (delta_time) int16 ...\n",
       "    beam_refsurf_mss               (delta_time) float32 ...\n",
       "    beam_refsurf_sigma             (delta_time) float32 ...\n",
       "    fbswath_ndx                    (delta_time) int32 ...\n",
       "Attributes:\n",
       "    Description:  Contains freeboard estimate and associated height segment p...\n",
       "    data_rate:    Data within this group are stored at the freeboard swath se...</pre><div class='xr-wrap' style='display:none'><div class='xr-header'><div class='xr-obj-type'>xarray.Dataset</div></div><ul class='xr-sections'><li class='xr-section-item'><input id='section-a5de6389-58a8-46dd-8221-67bfb3993b4c' class='xr-section-summary-in' type='checkbox' disabled ><label for='section-a5de6389-58a8-46dd-8221-67bfb3993b4c' class='xr-section-summary'  title='Expand/collapse section'>Dimensions:</label><div class='xr-section-inline-details'><ul class='xr-dim-list'><li><span class='xr-has-index'>delta_time</span>: 134</li><li><span class='xr-has-index'>ds_si_hist_bins</span>: 161</li></ul></div><div class='xr-section-details'></div></li><li class='xr-section-item'><input id='section-27241957-a3df-4e40-80c3-e572b7b3475c' class='xr-section-summary-in' type='checkbox'  checked><label for='section-27241957-a3df-4e40-80c3-e572b7b3475c' class='xr-section-summary' >Coordinates: <span>(4)</span></label><div class='xr-section-inline-details'></div><div class='xr-section-details'><ul class='xr-var-list'><li class='xr-var-item'><div class='xr-var-name'><span class='xr-has-index'>delta_time</span></div><div class='xr-var-dims'>(delta_time)</div><div class='xr-var-dtype'>datetime64[ns]</div><div class='xr-var-preview xr-preview'>2020-03-29T04:40:49.225437608 .....</div><input id='attrs-8081925a-0498-4ea6-a414-9acd641b06d5' class='xr-var-attrs-in' type='checkbox' ><label for='attrs-8081925a-0498-4ea6-a414-9acd641b06d5' title='Show/Hide attributes'><svg class='icon xr-icon-file-text2'><use xlink:href='#icon-file-text2'></use></svg></label><input id='data-ad21c800-1c5d-4f27-8186-3c6e403ccdd9' class='xr-var-data-in' type='checkbox'><label for='data-ad21c800-1c5d-4f27-8186-3c6e403ccdd9' title='Show/Hide data repr'><svg class='icon xr-icon-database'><use xlink:href='#icon-database'></use></svg></label><div class='xr-var-attrs'><dl class='xr-attrs'><dt><span>contentType :</span></dt><dd>referenceInformation</dd><dt><span>description :</span></dt><dd>The center time assigned to this freeboard swath segment (mean of all freeboard times), in elapsed GPS seconds since the ATLAS SDP GPS Epoch. The ATLAS Standard Data Products (SDP) epoch offset is defined within /ancillary_data/atlas_sdp_gps_epoch as the number of GPS seconds between the GPS epoch (1980-01-06T00:00:00.000000Z UTC) and the ATLAS SDP epoch. By adding the offset contained within atlas_sdp_gps_epoch to delta time parameters, the time in gps_seconds relative to the GPS epoch can be computed.</dd><dt><span>long_name :</span></dt><dd>Elapsed GPS seconds</dd><dt><span>source :</span></dt><dd>ATBD section 5</dd><dt><span>standard_name :</span></dt><dd>time</dd></dl></div><div class='xr-var-data'><pre>array([&#x27;2020-03-29T04:40:49.225437608&#x27;, &#x27;2020-03-29T04:40:50.640872272&#x27;,\n",
       "       &#x27;2020-03-29T04:40:52.056111888&#x27;, &#x27;2020-03-29T04:40:53.471433368&#x27;,\n",
       "       &#x27;2020-03-29T04:40:54.886582760&#x27;, &#x27;2020-03-29T04:40:56.301597016&#x27;,\n",
       "       &#x27;2020-03-29T04:40:57.716690272&#x27;, &#x27;2020-03-29T04:40:59.131839480&#x27;,\n",
       "       &#x27;2020-03-29T04:41:00.547042744&#x27;, &#x27;2020-03-29T04:41:01.962296560&#x27;,\n",
       "       &#x27;2020-03-29T04:41:03.377493960&#x27;, &#x27;2020-03-29T04:41:04.792659136&#x27;,\n",
       "       &#x27;2020-03-29T04:41:06.207932768&#x27;, &#x27;2020-03-29T04:41:07.623277096&#x27;,\n",
       "       &#x27;2020-03-29T04:41:09.038609592&#x27;, &#x27;2020-03-29T04:41:10.454117936&#x27;,\n",
       "       &#x27;2020-03-29T04:41:11.869494464&#x27;, &#x27;2020-03-29T04:41:13.284846528&#x27;,\n",
       "       &#x27;2020-03-29T04:41:14.700349688&#x27;, &#x27;2020-03-29T04:41:16.115833240&#x27;,\n",
       "       &#x27;2020-03-29T04:41:17.531253800&#x27;, &#x27;2020-03-29T04:41:18.946834760&#x27;,\n",
       "       &#x27;2020-03-29T04:41:20.362387224&#x27;, &#x27;2020-03-29T04:41:21.778067056&#x27;,\n",
       "       &#x27;2020-03-29T04:41:23.193736376&#x27;, &#x27;2020-03-29T04:41:24.609097976&#x27;,\n",
       "       &#x27;2020-03-29T04:41:26.024564784&#x27;, &#x27;2020-03-29T04:41:27.439814416&#x27;,\n",
       "       &#x27;2020-03-29T04:41:28.855209840&#x27;, &#x27;2020-03-29T04:41:30.270427328&#x27;,\n",
       "       &#x27;2020-03-29T04:41:31.685676024&#x27;, &#x27;2020-03-29T04:41:35.786080120&#x27;,\n",
       "       &#x27;2020-03-29T04:41:37.347772760&#x27;, &#x27;2020-03-29T04:41:38.763389408&#x27;,\n",
       "       &#x27;2020-03-29T04:41:40.178942624&#x27;, &#x27;2020-03-29T04:41:41.594450160&#x27;,\n",
       "       &#x27;2020-03-29T04:41:43.009991184&#x27;, &#x27;2020-03-29T04:41:44.425505120&#x27;,\n",
       "       &#x27;2020-03-29T04:41:45.841026176&#x27;, &#x27;2020-03-29T04:41:47.256448152&#x27;,\n",
       "       &#x27;2020-03-29T04:41:48.671929584&#x27;, &#x27;2020-03-29T04:41:50.087580752&#x27;,\n",
       "       &#x27;2020-03-29T04:41:51.503199128&#x27;, &#x27;2020-03-29T04:41:52.918869328&#x27;,\n",
       "       &#x27;2020-03-29T04:41:54.334736960&#x27;, &#x27;2020-03-29T04:41:55.750510064&#x27;,\n",
       "       &#x27;2020-03-29T04:41:57.166173216&#x27;, &#x27;2020-03-29T04:41:58.581795912&#x27;,\n",
       "       &#x27;2020-03-29T04:41:59.997421144&#x27;, &#x27;2020-03-29T04:42:01.412985224&#x27;,\n",
       "       &#x27;2020-03-29T04:42:02.828547640&#x27;, &#x27;2020-03-29T04:42:04.244298432&#x27;,\n",
       "       &#x27;2020-03-29T04:42:05.660045656&#x27;, &#x27;2020-03-29T04:42:07.075748760&#x27;,\n",
       "       &#x27;2020-03-29T04:42:08.491455000&#x27;, &#x27;2020-03-29T04:42:09.907018064&#x27;,\n",
       "       &#x27;2020-03-29T04:42:11.322521416&#x27;, &#x27;2020-03-29T04:42:12.738109976&#x27;,\n",
       "       &#x27;2020-03-29T04:42:14.153694528&#x27;, &#x27;2020-03-29T04:42:15.569278048&#x27;,\n",
       "       &#x27;2020-03-29T04:42:16.985057352&#x27;, &#x27;2020-03-29T04:42:18.400989008&#x27;,\n",
       "       &#x27;2020-03-29T04:42:19.816826000&#x27;, &#x27;2020-03-29T04:42:21.232704688&#x27;,\n",
       "       &#x27;2020-03-29T04:42:22.648611832&#x27;, &#x27;2020-03-29T04:42:24.064439536&#x27;,\n",
       "       &#x27;2020-03-29T04:42:25.480143248&#x27;, &#x27;2020-03-29T04:42:26.895777256&#x27;,\n",
       "       &#x27;2020-03-29T04:42:28.311454240&#x27;, &#x27;2020-03-29T04:42:29.727240904&#x27;,\n",
       "       &#x27;2020-03-29T04:42:31.143033744&#x27;, &#x27;2020-03-29T04:42:32.558852104&#x27;,\n",
       "       &#x27;2020-03-29T04:42:33.974841136&#x27;, &#x27;2020-03-29T04:42:35.390880880&#x27;,\n",
       "       &#x27;2020-03-29T04:42:36.806913136&#x27;, &#x27;2020-03-29T04:42:38.222994832&#x27;,\n",
       "       &#x27;2020-03-29T04:42:39.638979912&#x27;, &#x27;2020-03-29T04:42:41.054951888&#x27;,\n",
       "       &#x27;2020-03-29T04:42:42.470936968&#x27;, &#x27;2020-03-29T04:42:43.886879296&#x27;,\n",
       "       &#x27;2020-03-29T04:42:45.302789496&#x27;, &#x27;2020-03-29T04:42:46.718527480&#x27;,\n",
       "       &#x27;2020-03-29T04:42:48.134386616&#x27;, &#x27;2020-03-29T04:42:49.550428864&#x27;,\n",
       "       &#x27;2020-03-29T04:42:50.966514992&#x27;, &#x27;2020-03-29T04:42:52.382585224&#x27;,\n",
       "       &#x27;2020-03-29T04:42:53.798609136&#x27;, &#x27;2020-03-29T04:42:55.214664160&#x27;,\n",
       "       &#x27;2020-03-29T04:42:56.630619856&#x27;, &#x27;2020-03-29T04:42:58.046525328&#x27;,\n",
       "       &#x27;2020-03-29T04:42:59.462476432&#x27;, &#x27;2020-03-29T04:43:00.878416152&#x27;,\n",
       "       &#x27;2020-03-29T04:43:02.294331192&#x27;, &#x27;2020-03-29T04:43:03.710297928&#x27;,\n",
       "       &#x27;2020-03-29T04:43:05.126420664&#x27;, &#x27;2020-03-29T04:43:06.542543528&#x27;,\n",
       "       &#x27;2020-03-29T04:43:07.958729472&#x27;, &#x27;2020-03-29T04:43:09.374928072&#x27;,\n",
       "       &#x27;2020-03-29T04:43:10.790890472&#x27;, &#x27;2020-03-29T04:43:12.206879008&#x27;,\n",
       "       &#x27;2020-03-29T04:43:13.622926656&#x27;, &#x27;2020-03-29T04:43:15.038888560&#x27;,\n",
       "       &#x27;2020-03-29T04:43:16.454777392&#x27;, &#x27;2020-03-29T04:43:17.870670824&#x27;,\n",
       "       &#x27;2020-03-29T04:43:19.286763224&#x27;, &#x27;2020-03-29T04:43:20.702959328&#x27;,\n",
       "       &#x27;2020-03-29T04:43:22.119185624&#x27;, &#x27;2020-03-29T04:43:23.535419432&#x27;,\n",
       "       &#x27;2020-03-29T04:43:24.951481936&#x27;, &#x27;2020-03-29T04:43:26.367509160&#x27;,\n",
       "       &#x27;2020-03-29T04:43:27.783632696&#x27;, &#x27;2020-03-29T04:43:29.199491696&#x27;,\n",
       "       &#x27;2020-03-29T04:43:30.615733416&#x27;, &#x27;2020-03-29T04:52:44.194411008&#x27;,\n",
       "       &#x27;2020-03-29T04:52:45.753310632&#x27;, &#x27;2020-03-29T04:52:47.168519256&#x27;,\n",
       "       &#x27;2020-03-29T04:52:48.583733216&#x27;, &#x27;2020-03-29T04:52:49.998787600&#x27;,\n",
       "       &#x27;2020-03-29T04:52:51.413739640&#x27;, &#x27;2020-03-29T04:52:52.828795760&#x27;,\n",
       "       &#x27;2020-03-29T04:52:54.243963496&#x27;, &#x27;2020-03-29T04:52:55.659103128&#x27;,\n",
       "       &#x27;2020-03-29T04:52:57.074362472&#x27;, &#x27;2020-03-29T04:52:58.489541816&#x27;,\n",
       "       &#x27;2020-03-29T04:52:59.904639512&#x27;, &#x27;2020-03-29T04:53:01.319828016&#x27;,\n",
       "       &#x27;2020-03-29T04:53:02.734836640&#x27;, &#x27;2020-03-29T04:53:04.149684416&#x27;,\n",
       "       &#x27;2020-03-29T04:53:05.564564688&#x27;, &#x27;2020-03-29T04:53:06.979463352&#x27;,\n",
       "       &#x27;2020-03-29T04:53:08.394461008&#x27;, &#x27;2020-03-29T04:53:09.809390512&#x27;,\n",
       "       &#x27;2020-03-29T04:53:11.224301888&#x27;, &#x27;2020-03-29T04:53:12.639178472&#x27;],\n",
       "      dtype=&#x27;datetime64[ns]&#x27;)</pre></div></li><li class='xr-var-item'><div class='xr-var-name'><span class='xr-has-index'>ds_si_hist_bins</span></div><div class='xr-var-dims'>(ds_si_hist_bins)</div><div class='xr-var-dtype'>int32</div><div class='xr-var-preview xr-preview'>1 2 3 4 5 6 ... 157 158 159 160 161</div><input id='attrs-64894aef-2cff-459c-8005-35828f8ad40b' class='xr-var-attrs-in' type='checkbox' ><label for='attrs-64894aef-2cff-459c-8005-35828f8ad40b' title='Show/Hide attributes'><svg class='icon xr-icon-file-text2'><use xlink:href='#icon-file-text2'></use></svg></label><input id='data-b1947ff0-dca7-4bc1-98e9-454dee49f965' class='xr-var-data-in' type='checkbox'><label for='data-b1947ff0-dca7-4bc1-98e9-454dee49f965' title='Show/Hide data repr'><svg class='icon xr-icon-database'><use xlink:href='#icon-database'></use></svg></label><div class='xr-var-attrs'><dl class='xr-attrs'><dt><span>contentType :</span></dt><dd>auxiliaryInformation</dd><dt><span>description :</span></dt><dd>Dimension scale indexing the sea ice histogram bins. The bin heights must be computed from information contained within the same group as the histogram.</dd><dt><span>long_name :</span></dt><dd>Sea Ice Histogram Bins  Dimension Scale</dd><dt><span>source :</span></dt><dd>SeaIce ATBD</dd><dt><span>units :</span></dt><dd>1</dd></dl></div><div class='xr-var-data'><pre>array([  1,   2,   3,   4,   5,   6,   7,   8,   9,  10,  11,  12,  13,  14,\n",
       "        15,  16,  17,  18,  19,  20,  21,  22,  23,  24,  25,  26,  27,  28,\n",
       "        29,  30,  31,  32,  33,  34,  35,  36,  37,  38,  39,  40,  41,  42,\n",
       "        43,  44,  45,  46,  47,  48,  49,  50,  51,  52,  53,  54,  55,  56,\n",
       "        57,  58,  59,  60,  61,  62,  63,  64,  65,  66,  67,  68,  69,  70,\n",
       "        71,  72,  73,  74,  75,  76,  77,  78,  79,  80,  81,  82,  83,  84,\n",
       "        85,  86,  87,  88,  89,  90,  91,  92,  93,  94,  95,  96,  97,  98,\n",
       "        99, 100, 101, 102, 103, 104, 105, 106, 107, 108, 109, 110, 111, 112,\n",
       "       113, 114, 115, 116, 117, 118, 119, 120, 121, 122, 123, 124, 125, 126,\n",
       "       127, 128, 129, 130, 131, 132, 133, 134, 135, 136, 137, 138, 139, 140,\n",
       "       141, 142, 143, 144, 145, 146, 147, 148, 149, 150, 151, 152, 153, 154,\n",
       "       155, 156, 157, 158, 159, 160, 161], dtype=int32)</pre></div></li><li class='xr-var-item'><div class='xr-var-name'><span>latitude</span></div><div class='xr-var-dims'>(delta_time)</div><div class='xr-var-dtype'>float64</div><div class='xr-var-preview xr-preview'>-67.66 -67.75 ... -65.35 -65.26</div><input id='attrs-24b6828d-0af9-471c-9d2c-f9c8695c2eca' class='xr-var-attrs-in' type='checkbox' ><label for='attrs-24b6828d-0af9-471c-9d2c-f9c8695c2eca' title='Show/Hide attributes'><svg class='icon xr-icon-file-text2'><use xlink:href='#icon-file-text2'></use></svg></label><input id='data-148df71c-0bf8-4ac5-bbc0-f4e067866de3' class='xr-var-data-in' type='checkbox'><label for='data-148df71c-0bf8-4ac5-bbc0-f4e067866de3' title='Show/Hide data repr'><svg class='icon xr-icon-database'><use xlink:href='#icon-database'></use></svg></label><div class='xr-var-attrs'><dl class='xr-attrs'><dt><span>contentType :</span></dt><dd>referenceInformation</dd><dt><span>description :</span></dt><dd>Center latitude of freeboard swath-segment (mean of all freeboard latitudes)</dd><dt><span>long_name :</span></dt><dd>Center latitude of freeboard swath-segment</dd><dt><span>source :</span></dt><dd>ATBD section 5</dd><dt><span>standard_name :</span></dt><dd>latitude</dd><dt><span>units :</span></dt><dd>degrees_north</dd></dl></div><div class='xr-var-data'><pre>array([-67.657935, -67.746976, -67.836015, -67.92505 , -68.01408 , -68.103108,\n",
       "       -68.192131, -68.28115 , -68.370165, -68.459176, -68.548183, -68.637187,\n",
       "       -68.726186, -68.81518 , -68.904171, -68.993158, -69.08214 , -69.171117,\n",
       "       -69.260091, -69.34906 , -69.438025, -69.526984, -69.61594 , -69.704891,\n",
       "       -69.793839, -69.882781, -69.971719, -70.060651, -70.149579, -70.238503,\n",
       "       -70.327422, -70.595073, -70.683043, -70.771934, -70.860821, -70.949703,\n",
       "       -71.038579, -71.127449, -71.216315, -71.305174, -71.394028, -71.482876,\n",
       "       -71.571719, -71.660554, -71.749385, -71.83821 , -71.927028, -72.01584 ,\n",
       "       -72.104646, -72.193445, -72.282238, -72.371026, -72.459806, -72.548579,\n",
       "       -72.637345, -72.726105, -72.814858, -72.903604, -72.992344, -73.081075,\n",
       "       -73.169799, -73.258516, -73.347225, -73.435927, -73.524621, -73.613307,\n",
       "       -73.701985, -73.790655, -73.879315, -73.967968, -74.056612, -74.145248,\n",
       "       -74.233876, -74.322494, -74.411103, -74.499703, -74.588294, -74.676876,\n",
       "       -74.765447, -74.854008, -74.94256 , -75.031101, -75.119633, -75.208154,\n",
       "       -75.296663, -75.385163, -75.473651, -75.562129, -75.650594, -75.739048,\n",
       "       -75.82749 , -75.91592 , -76.004337, -76.092743, -76.181137, -76.269517,\n",
       "       -76.357884, -76.446238, -76.534579, -76.622905, -76.711217, -76.799515,\n",
       "       -76.887798, -76.976066, -77.064319, -77.152557, -77.240778, -77.328984,\n",
       "       -77.417173, -77.505345, -77.5935  , -77.681638, -77.769757, -67.042209,\n",
       "       -66.952359, -66.863285, -66.77421 , -66.685129, -66.596044, -66.506955,\n",
       "       -66.417865, -66.328771, -66.239673, -66.150571, -66.061468, -65.972363,\n",
       "       -65.883253, -65.794139, -65.705022, -65.615904, -65.526781, -65.437654,\n",
       "       -65.348527, -65.259397])</pre></div></li><li class='xr-var-item'><div class='xr-var-name'><span>longitude</span></div><div class='xr-var-dims'>(delta_time)</div><div class='xr-var-dtype'>float64</div><div class='xr-var-preview xr-preview'>...</div><input id='attrs-053f733c-07c5-467c-8e95-0690a7374245' class='xr-var-attrs-in' type='checkbox' ><label for='attrs-053f733c-07c5-467c-8e95-0690a7374245' title='Show/Hide attributes'><svg class='icon xr-icon-file-text2'><use xlink:href='#icon-file-text2'></use></svg></label><input id='data-3e381ff3-7435-4a0d-8e66-356cc8e2127a' class='xr-var-data-in' type='checkbox'><label for='data-3e381ff3-7435-4a0d-8e66-356cc8e2127a' title='Show/Hide data repr'><svg class='icon xr-icon-database'><use xlink:href='#icon-database'></use></svg></label><div class='xr-var-attrs'><dl class='xr-attrs'><dt><span>contentType :</span></dt><dd>referenceInformation</dd><dt><span>description :</span></dt><dd>Center longitude of freeboard swath-segment (mean of all freeboard longitudes)</dd><dt><span>long_name :</span></dt><dd>Center longitude of freeboard swath-segment</dd><dt><span>source :</span></dt><dd>ATBD section 5</dd><dt><span>standard_name :</span></dt><dd>longitude</dd><dt><span>units :</span></dt><dd>degrees_east</dd></dl></div><div class='xr-var-data'><pre>[134 values with dtype=float64]</pre></div></li></ul></div></li><li class='xr-section-item'><input id='section-ea2bb98e-4275-4920-b722-abd6bbbf00db' class='xr-section-summary-in' type='checkbox'  ><label for='section-ea2bb98e-4275-4920-b722-abd6bbbf00db' class='xr-section-summary' >Data variables: <span>(16)</span></label><div class='xr-section-inline-details'></div><div class='xr-section-details'><ul class='xr-var-list'><li class='xr-var-item'><div class='xr-var-name'><span>beam_fb_height</span></div><div class='xr-var-dims'>(delta_time)</div><div class='xr-var-dtype'>float32</div><div class='xr-var-preview xr-preview'>nan nan 0.2472 ... nan nan nan</div><input id='attrs-9a0444cd-8c61-4112-b878-092dca6469a2' class='xr-var-attrs-in' type='checkbox' ><label for='attrs-9a0444cd-8c61-4112-b878-092dca6469a2' title='Show/Hide attributes'><svg class='icon xr-icon-file-text2'><use xlink:href='#icon-file-text2'></use></svg></label><input id='data-d4d62763-59ff-44c6-9ca8-2465dfed1e9a' class='xr-var-data-in' type='checkbox'><label for='data-d4d62763-59ff-44c6-9ca8-2465dfed1e9a' title='Show/Hide data repr'><svg class='icon xr-icon-database'><use xlink:href='#icon-database'></use></svg></label><div class='xr-var-attrs'><dl class='xr-attrs'><dt><span>contentType :</span></dt><dd>modelResult</dd><dt><span>description :</span></dt><dd>Freeboard height relative to beam_refsurf_height.</dd><dt><span>long_name :</span></dt><dd>Freeboard height relative to fbswath_refsurf_height</dd><dt><span>source :</span></dt><dd>ATBD section 5</dd><dt><span>units :</span></dt><dd>meters</dd></dl></div><div class='xr-var-data'><pre>array([     nan,      nan, 0.247204, 0.22034 , 0.16666 , 0.192689, 0.182292,\n",
       "            nan,      nan,      nan,      nan,      nan,      nan,      nan,\n",
       "            nan,      nan,      nan,      nan,      nan,      nan,      nan,\n",
       "            nan,      nan,      nan,      nan,      nan,      nan, 0.022793,\n",
       "       0.040286, 0.063854, 0.062736,      nan, 0.050331, 0.064442, 0.174531,\n",
       "       0.143881, 0.120794, 0.177327, 0.139107, 0.257053, 0.204663, 0.117736,\n",
       "       0.226666, 0.263712, 0.226025, 0.143049, 0.113518, 0.107644, 0.131381,\n",
       "       0.123755, 0.123756, 0.138641, 0.14029 , 0.169072, 0.155456, 0.11874 ,\n",
       "       0.120767, 0.146047, 0.433672, 0.382204, 0.137139, 0.216538, 0.183471,\n",
       "       0.144179, 0.240118,      nan,      nan, 0.162475, 0.150116, 0.157293,\n",
       "       0.132044, 0.246475, 0.170832, 0.179855, 0.244552, 0.270702, 0.217045,\n",
       "       0.14351 , 0.17915 , 0.19923 , 0.12515 , 0.111139, 0.128934, 0.13827 ,\n",
       "       0.108398, 0.17631 , 0.139156, 0.110142, 0.228538, 0.23089 ,      nan,\n",
       "            nan, 0.101461, 0.127271, 0.215294, 0.065977, 0.185148, 0.235378,\n",
       "       0.347478, 0.341339, 0.258468, 0.300221, 0.156419, 0.2825  , 0.285847,\n",
       "       0.167552,      nan,      nan,      nan,      nan,      nan,      nan,\n",
       "            nan,      nan,      nan,      nan, 0.233024, 0.130503, 0.195064,\n",
       "       0.225827, 0.22575 , 0.323791, 0.162124,      nan,      nan,      nan,\n",
       "            nan,      nan,      nan,      nan,      nan,      nan,      nan,\n",
       "            nan], dtype=float32)</pre></div></li><li class='xr-var-item'><div class='xr-var-name'><span>beam_fb_hist</span></div><div class='xr-var-dims'>(delta_time, ds_si_hist_bins)</div><div class='xr-var-dtype'>int16</div><div class='xr-var-preview xr-preview'>...</div><input id='attrs-791b1422-c67d-4216-8051-c7af4cf1579a' class='xr-var-attrs-in' type='checkbox' ><label for='attrs-791b1422-c67d-4216-8051-c7af4cf1579a' title='Show/Hide attributes'><svg class='icon xr-icon-file-text2'><use xlink:href='#icon-file-text2'></use></svg></label><input id='data-c663862b-f474-4c59-ab58-c728a909d0fa' class='xr-var-data-in' type='checkbox'><label for='data-c663862b-f474-4c59-ab58-c728a909d0fa' title='Show/Hide data repr'><svg class='icon xr-icon-database'><use xlink:href='#icon-database'></use></svg></label><div class='xr-var-attrs'><dl class='xr-attrs'><dt><span>contentType :</span></dt><dd>referenceInformation</dd><dt><span>description :</span></dt><dd>Beam Freeboard (using beam fbswath reference surface height) histogram (distribution) for this freeboard beam-segment</dd><dt><span>long_name :</span></dt><dd>Beam freeboard histogram</dd><dt><span>source :</span></dt><dd>ATBD section 5</dd><dt><span>units :</span></dt><dd>1</dd></dl></div><div class='xr-var-data'><pre>[21574 values with dtype=int16]</pre></div></li><li class='xr-var-item'><div class='xr-var-name'><span>beam_fb_length</span></div><div class='xr-var-dims'>(delta_time)</div><div class='xr-var-dtype'>float32</div><div class='xr-var-preview xr-preview'>...</div><input id='attrs-936f647e-163e-46e2-b0a9-ed2b914f4205' class='xr-var-attrs-in' type='checkbox' ><label for='attrs-936f647e-163e-46e2-b0a9-ed2b914f4205' title='Show/Hide attributes'><svg class='icon xr-icon-file-text2'><use xlink:href='#icon-file-text2'></use></svg></label><input id='data-ed430c4d-7a51-4114-8c6c-4928022123e5' class='xr-var-data-in' type='checkbox'><label for='data-ed430c4d-7a51-4114-8c6c-4928022123e5' title='Show/Hide data repr'><svg class='icon xr-icon-database'><use xlink:href='#icon-database'></use></svg></label><div class='xr-var-attrs'><dl class='xr-attrs'><dt><span>contentType :</span></dt><dd>modelResult</dd><dt><span>description :</span></dt><dd>Length of freeboard beam-segment</dd><dt><span>long_name :</span></dt><dd>Length ofbeam  freeboard swath-segment</dd><dt><span>source :</span></dt><dd>ATBD section 5</dd><dt><span>units :</span></dt><dd>meters</dd></dl></div><div class='xr-var-data'><pre>[134 values with dtype=float32]</pre></div></li><li class='xr-var-item'><div class='xr-var-name'><span>beam_fb_sigma</span></div><div class='xr-var-dims'>(delta_time)</div><div class='xr-var-dtype'>float32</div><div class='xr-var-preview xr-preview'>...</div><input id='attrs-9329be88-9a88-43b0-8325-84cfde996420' class='xr-var-attrs-in' type='checkbox' ><label for='attrs-9329be88-9a88-43b0-8325-84cfde996420' title='Show/Hide attributes'><svg class='icon xr-icon-file-text2'><use xlink:href='#icon-file-text2'></use></svg></label><input id='data-074fdb1d-82a8-4c4c-b319-deb21a62c6a5' class='xr-var-data-in' type='checkbox'><label for='data-074fdb1d-82a8-4c4c-b319-deb21a62c6a5' title='Show/Hide data repr'><svg class='icon xr-icon-database'><use xlink:href='#icon-database'></use></svg></label><div class='xr-var-attrs'><dl class='xr-attrs'><dt><span>contentType :</span></dt><dd>modelResult</dd><dt><span>description :</span></dt><dd>Freeboard standard deviation of the height-segments in freeboard beam-segment</dd><dt><span>long_name :</span></dt><dd>Beam Freeboard standard deviation swath-segment</dd><dt><span>source :</span></dt><dd>ATBD section 5</dd><dt><span>units :</span></dt><dd>meters</dd></dl></div><div class='xr-var-data'><pre>[134 values with dtype=float32]</pre></div></li><li class='xr-var-item'><div class='xr-var-name'><span>beam_lead_n</span></div><div class='xr-var-dims'>(delta_time)</div><div class='xr-var-dtype'>int32</div><div class='xr-var-preview xr-preview'>...</div><input id='attrs-9d02f133-16a4-4f64-8076-1b553ef83c2c' class='xr-var-attrs-in' type='checkbox' ><label for='attrs-9d02f133-16a4-4f64-8076-1b553ef83c2c' title='Show/Hide attributes'><svg class='icon xr-icon-file-text2'><use xlink:href='#icon-file-text2'></use></svg></label><input id='data-36305b7e-05d8-4138-9a61-9ee2c01354f0' class='xr-var-data-in' type='checkbox'><label for='data-36305b7e-05d8-4138-9a61-9ee2c01354f0' title='Show/Hide data repr'><svg class='icon xr-icon-database'><use xlink:href='#icon-database'></use></svg></label><div class='xr-var-attrs'><dl class='xr-attrs'><dt><span>contentType :</span></dt><dd>referenceInformation</dd><dt><span>description :</span></dt><dd>Number of leads used for this beam reference surface</dd><dt><span>long_name :</span></dt><dd>Number of leads</dd><dt><span>source :</span></dt><dd>Sea Ice ATBD</dd><dt><span>units :</span></dt><dd>1</dd></dl></div><div class='xr-var-data'><pre>[134 values with dtype=int32]</pre></div></li><li class='xr-var-item'><div class='xr-var-name'><span>beam_lead_ndx</span></div><div class='xr-var-dims'>(delta_time)</div><div class='xr-var-dtype'>int32</div><div class='xr-var-preview xr-preview'>...</div><input id='attrs-30fac642-8197-4360-aedd-d3b012f5518e' class='xr-var-attrs-in' type='checkbox' ><label for='attrs-30fac642-8197-4360-aedd-d3b012f5518e' title='Show/Hide attributes'><svg class='icon xr-icon-file-text2'><use xlink:href='#icon-file-text2'></use></svg></label><input id='data-04c27ece-7532-47d5-985a-18380371ee1a' class='xr-var-data-in' type='checkbox'><label for='data-04c27ece-7532-47d5-985a-18380371ee1a' title='Show/Hide data repr'><svg class='icon xr-icon-database'><use xlink:href='#icon-database'></use></svg></label><div class='xr-var-attrs'><dl class='xr-attrs'><dt><span>contentType :</span></dt><dd>referenceInformation</dd><dt><span>description :</span></dt><dd>1-based index to the first /GTx/leads lead used for this beam&#x27;s reference surface.</dd><dt><span>long_name :</span></dt><dd>index first lead</dd><dt><span>source :</span></dt><dd>Sea Ice ATBD</dd><dt><span>units :</span></dt><dd>1</dd></dl></div><div class='xr-var-data'><pre>[134 values with dtype=int32]</pre></div></li><li class='xr-var-item'><div class='xr-var-name'><span>beam_refsurf_alongtrack_slope</span></div><div class='xr-var-dims'>(delta_time)</div><div class='xr-var-dtype'>float32</div><div class='xr-var-preview xr-preview'>...</div><input id='attrs-46606836-5fd3-4f0a-bd81-4b3c053b86d0' class='xr-var-attrs-in' type='checkbox' ><label for='attrs-46606836-5fd3-4f0a-bd81-4b3c053b86d0' title='Show/Hide attributes'><svg class='icon xr-icon-file-text2'><use xlink:href='#icon-file-text2'></use></svg></label><input id='data-4c4b7c48-4f36-4c24-b64a-478fbadecd9d' class='xr-var-data-in' type='checkbox'><label for='data-4c4b7c48-4f36-4c24-b64a-478fbadecd9d' title='Show/Hide data repr'><svg class='icon xr-icon-database'><use xlink:href='#icon-database'></use></svg></label><div class='xr-var-attrs'><dl class='xr-attrs'><dt><span>contentType :</span></dt><dd>modelResult</dd><dt><span>description :</span></dt><dd>Reference surface height along track slope</dd><dt><span>long_name :</span></dt><dd>reference surface along track slope</dd><dt><span>source :</span></dt><dd>ATBD section 5</dd><dt><span>units :</span></dt><dd>degrees</dd></dl></div><div class='xr-var-data'><pre>[134 values with dtype=float32]</pre></div></li><li class='xr-var-item'><div class='xr-var-name'><span>beam_refsurf_dist_x</span></div><div class='xr-var-dims'>(delta_time)</div><div class='xr-var-dtype'>float64</div><div class='xr-var-preview xr-preview'>...</div><input id='attrs-732c7a02-e29e-4be0-abf6-274130847718' class='xr-var-attrs-in' type='checkbox' ><label for='attrs-732c7a02-e29e-4be0-abf6-274130847718' title='Show/Hide attributes'><svg class='icon xr-icon-file-text2'><use xlink:href='#icon-file-text2'></use></svg></label><input id='data-2cd3c0e4-a17c-4d54-a6e8-08d5ae319599' class='xr-var-data-in' type='checkbox'><label for='data-2cd3c0e4-a17c-4d54-a6e8-08d5ae319599' title='Show/Hide data repr'><svg class='icon xr-icon-database'><use xlink:href='#icon-database'></use></svg></label><div class='xr-var-attrs'><dl class='xr-attrs'><dt><span>contentType :</span></dt><dd>physicalMeasurement</dd><dt><span>description :</span></dt><dd>Along-track distance from the equator crossing. Distance is calculated by averaging distance of all leads contained in reference surface.</dd><dt><span>long_name :</span></dt><dd>Along Track Distance</dd><dt><span>source :</span></dt><dd>atl07</dd><dt><span>standard_name :</span></dt><dd>distance</dd><dt><span>units :</span></dt><dd>m</dd></dl></div><div class='xr-var-data'><pre>[134 values with dtype=float64]</pre></div></li><li class='xr-var-item'><div class='xr-var-name'><span>beam_refsurf_earth_free2mean</span></div><div class='xr-var-dims'>(delta_time)</div><div class='xr-var-dtype'>float32</div><div class='xr-var-preview xr-preview'>...</div><input id='attrs-3e46a621-0178-4875-8896-3a86af3ea3f3' class='xr-var-attrs-in' type='checkbox' ><label for='attrs-3e46a621-0178-4875-8896-3a86af3ea3f3' title='Show/Hide attributes'><svg class='icon xr-icon-file-text2'><use xlink:href='#icon-file-text2'></use></svg></label><input id='data-15a3565b-ddb1-4a32-9691-722cc193b2c2' class='xr-var-data-in' type='checkbox'><label for='data-15a3565b-ddb1-4a32-9691-722cc193b2c2' title='Show/Hide data repr'><svg class='icon xr-icon-database'><use xlink:href='#icon-database'></use></svg></label><div class='xr-var-attrs'><dl class='xr-attrs'><dt><span>contentType :</span></dt><dd>modelResult</dd><dt><span>description :</span></dt><dd>Additive value to convert solid earth tide from the tide-free system to the mean-tide system at reference surface length scale.</dd><dt><span>long_name :</span></dt><dd>Reference Surface solid earth tide free-to-mean conversion</dd><dt><span>source :</span></dt><dd>Sea Ice ATBD</dd><dt><span>standard_name :</span></dt><dd>solid earth tide free2mean</dd><dt><span>units :</span></dt><dd>meters</dd></dl></div><div class='xr-var-data'><pre>[134 values with dtype=float32]</pre></div></li><li class='xr-var-item'><div class='xr-var-name'><span>beam_refsurf_geoid</span></div><div class='xr-var-dims'>(delta_time)</div><div class='xr-var-dtype'>float32</div><div class='xr-var-preview xr-preview'>...</div><input id='attrs-36827857-7e5a-433d-a559-eed1b316e4aa' class='xr-var-attrs-in' type='checkbox' ><label for='attrs-36827857-7e5a-433d-a559-eed1b316e4aa' title='Show/Hide attributes'><svg class='icon xr-icon-file-text2'><use xlink:href='#icon-file-text2'></use></svg></label><input id='data-8aba3a16-9892-438a-97eb-00b8382c022d' class='xr-var-data-in' type='checkbox'><label for='data-8aba3a16-9892-438a-97eb-00b8382c022d' title='Show/Hide data repr'><svg class='icon xr-icon-database'><use xlink:href='#icon-database'></use></svg></label><div class='xr-var-attrs'><dl class='xr-attrs'><dt><span>contentType :</span></dt><dd>referenceInformation</dd><dt><span>description :</span></dt><dd>Geoid height above WGS-84 reference ellipsoid at the reference surface length scale (range -107 to 86m), based on the EGM2008 model. The geoid height is in the tide-free system. </dd><dt><span>long_name :</span></dt><dd>reference surface EGM2008 Geoid</dd><dt><span>source :</span></dt><dd>Sea Ice ATBD</dd><dt><span>units :</span></dt><dd>meters</dd></dl></div><div class='xr-var-data'><pre>[134 values with dtype=float32]</pre></div></li><li class='xr-var-item'><div class='xr-var-name'><span>beam_refsurf_geoid_free2mean</span></div><div class='xr-var-dims'>(delta_time)</div><div class='xr-var-dtype'>float32</div><div class='xr-var-preview xr-preview'>...</div><input id='attrs-92fafa77-e1ca-4cc6-975a-e547dd72fd7d' class='xr-var-attrs-in' type='checkbox' ><label for='attrs-92fafa77-e1ca-4cc6-975a-e547dd72fd7d' title='Show/Hide attributes'><svg class='icon xr-icon-file-text2'><use xlink:href='#icon-file-text2'></use></svg></label><input id='data-328305a2-07b8-4066-94ff-5dc89f8e7c0a' class='xr-var-data-in' type='checkbox'><label for='data-328305a2-07b8-4066-94ff-5dc89f8e7c0a' title='Show/Hide data repr'><svg class='icon xr-icon-database'><use xlink:href='#icon-database'></use></svg></label><div class='xr-var-attrs'><dl class='xr-attrs'><dt><span>contentType :</span></dt><dd>modelResult</dd><dt><span>description :</span></dt><dd>Additive value to convert geoid heights from the tide-free system to the mean-tide system at reference surface length scale.</dd><dt><span>long_name :</span></dt><dd>Reference Surface geoid free-to-mean conversion</dd><dt><span>source :</span></dt><dd>Sea Ice ATBD</dd><dt><span>standard_name :</span></dt><dd>geoid free2mean</dd><dt><span>units :</span></dt><dd>meters</dd></dl></div><div class='xr-var-data'><pre>[134 values with dtype=float32]</pre></div></li><li class='xr-var-item'><div class='xr-var-name'><span>beam_refsurf_height</span></div><div class='xr-var-dims'>(delta_time)</div><div class='xr-var-dtype'>float32</div><div class='xr-var-preview xr-preview'>...</div><input id='attrs-897ac238-aeae-40fb-a1d6-e34d0c1fee0e' class='xr-var-attrs-in' type='checkbox' ><label for='attrs-897ac238-aeae-40fb-a1d6-e34d0c1fee0e' title='Show/Hide attributes'><svg class='icon xr-icon-file-text2'><use xlink:href='#icon-file-text2'></use></svg></label><input id='data-8a71806a-d342-4b39-87b5-9a5c0bc0a0ed' class='xr-var-data-in' type='checkbox'><label for='data-8a71806a-d342-4b39-87b5-9a5c0bc0a0ed' title='Show/Hide data repr'><svg class='icon xr-icon-database'><use xlink:href='#icon-database'></use></svg></label><div class='xr-var-attrs'><dl class='xr-attrs'><dt><span>contentType :</span></dt><dd>modelResult</dd><dt><span>description :</span></dt><dd>Reference surface height -weighted combination of leads in this beam for this swath segment. The reference surface height is relative to the tide-free MSS.</dd><dt><span>long_name :</span></dt><dd>reference surface mean</dd><dt><span>source :</span></dt><dd>ATBD section 5</dd><dt><span>units :</span></dt><dd>meters</dd></dl></div><div class='xr-var-data'><pre>[134 values with dtype=float32]</pre></div></li><li class='xr-var-item'><div class='xr-var-name'><span>beam_refsurf_interp_flag</span></div><div class='xr-var-dims'>(delta_time)</div><div class='xr-var-dtype'>int16</div><div class='xr-var-preview xr-preview'>...</div><input id='attrs-cd85fac5-792a-4f3b-9747-1aaad95e1cde' class='xr-var-attrs-in' type='checkbox' ><label for='attrs-cd85fac5-792a-4f3b-9747-1aaad95e1cde' title='Show/Hide attributes'><svg class='icon xr-icon-file-text2'><use xlink:href='#icon-file-text2'></use></svg></label><input id='data-c8b4f8e8-81eb-4051-8cb7-85baad66c6a6' class='xr-var-data-in' type='checkbox'><label for='data-c8b4f8e8-81eb-4051-8cb7-85baad66c6a6' title='Show/Hide data repr'><svg class='icon xr-icon-database'><use xlink:href='#icon-database'></use></svg></label><div class='xr-var-attrs'><dl class='xr-attrs'><dt><span>contentType :</span></dt><dd>referenceInformation</dd><dt><span>description :</span></dt><dd>Identifies segments with reference surface height filled through interpolation. -1 = no valid reference surface determined; 0= reference surface computed from leads in this swath; 1 = reference surface computed by interpolation using two valid reference surface (constrained by thresholds maxgaptime and maxgapht); 2 = reference surface computed using one-point fill (linear interpolation between two adjacent valid reference surfaces, constrained by threshold maxpadtime); 3 = reference surface computed using end-point fill (missing reference surface is set to the previous or next adjacent valid reference surface, constrained by threshold maxpadtime)</dd><dt><span>flag_meanings :</span></dt><dd>no_surf leads_in_swath inferred one-point_fill end-point_fill</dd><dt><span>flag_values :</span></dt><dd>[-1  0  1  2  3]</dd><dt><span>long_name :</span></dt><dd>reference surface interpolation flag</dd><dt><span>source :</span></dt><dd>ATBD section 5</dd><dt><span>units :</span></dt><dd>1</dd><dt><span>valid_max :</span></dt><dd>3</dd><dt><span>valid_min :</span></dt><dd>-1</dd></dl></div><div class='xr-var-data'><pre>[134 values with dtype=int16]</pre></div></li><li class='xr-var-item'><div class='xr-var-name'><span>beam_refsurf_mss</span></div><div class='xr-var-dims'>(delta_time)</div><div class='xr-var-dtype'>float32</div><div class='xr-var-preview xr-preview'>...</div><input id='attrs-b2b72405-c50b-4354-b028-8e41e4268dae' class='xr-var-attrs-in' type='checkbox' ><label for='attrs-b2b72405-c50b-4354-b028-8e41e4268dae' title='Show/Hide attributes'><svg class='icon xr-icon-file-text2'><use xlink:href='#icon-file-text2'></use></svg></label><input id='data-eced5eb7-05fd-4043-bfde-39e5c0594bbe' class='xr-var-data-in' type='checkbox'><label for='data-eced5eb7-05fd-4043-bfde-39e5c0594bbe' title='Show/Hide data repr'><svg class='icon xr-icon-database'><use xlink:href='#icon-database'></use></svg></label><div class='xr-var-attrs'><dl class='xr-attrs'><dt><span>contentType :</span></dt><dd>referenceInformation</dd><dt><span>description :</span></dt><dd>Mean sea surface height above WGS-84 reference ellipsoid at reference surface length scale. (Includes tide-free geoid and mean dynamic topography.) The MSS height is adjusted to be relative to the tide free system.</dd><dt><span>long_name :</span></dt><dd>Reference Surface Mean Sea Surface</dd><dt><span>source :</span></dt><dd>Sea Ice ATBD</dd><dt><span>units :</span></dt><dd>meters</dd></dl></div><div class='xr-var-data'><pre>[134 values with dtype=float32]</pre></div></li><li class='xr-var-item'><div class='xr-var-name'><span>beam_refsurf_sigma</span></div><div class='xr-var-dims'>(delta_time)</div><div class='xr-var-dtype'>float32</div><div class='xr-var-preview xr-preview'>...</div><input id='attrs-84afcff0-fc72-4dda-b848-bd52f63388aa' class='xr-var-attrs-in' type='checkbox' ><label for='attrs-84afcff0-fc72-4dda-b848-bd52f63388aa' title='Show/Hide attributes'><svg class='icon xr-icon-file-text2'><use xlink:href='#icon-file-text2'></use></svg></label><input id='data-91fc3ca6-3648-4855-bde0-af9079c50593' class='xr-var-data-in' type='checkbox'><label for='data-91fc3ca6-3648-4855-bde0-af9079c50593' title='Show/Hide data repr'><svg class='icon xr-icon-database'><use xlink:href='#icon-database'></use></svg></label><div class='xr-var-attrs'><dl class='xr-attrs'><dt><span>contentType :</span></dt><dd>modelResult</dd><dt><span>description :</span></dt><dd>Reference surface height sigma (standard devaition) - weighted combination of lead sigmas in this beam for this swath segment</dd><dt><span>long_name :</span></dt><dd>reference surface sigma</dd><dt><span>source :</span></dt><dd>ATBD section 5</dd><dt><span>units :</span></dt><dd>meters</dd></dl></div><div class='xr-var-data'><pre>[134 values with dtype=float32]</pre></div></li><li class='xr-var-item'><div class='xr-var-name'><span>fbswath_ndx</span></div><div class='xr-var-dims'>(delta_time)</div><div class='xr-var-dtype'>int32</div><div class='xr-var-preview xr-preview'>...</div><input id='attrs-6a8a32ae-612d-4b95-a955-498db9c59a02' class='xr-var-attrs-in' type='checkbox' ><label for='attrs-6a8a32ae-612d-4b95-a955-498db9c59a02' title='Show/Hide attributes'><svg class='icon xr-icon-file-text2'><use xlink:href='#icon-file-text2'></use></svg></label><input id='data-44288370-7cdb-47ae-9521-4860b11cb7f7' class='xr-var-data-in' type='checkbox'><label for='data-44288370-7cdb-47ae-9521-4860b11cb7f7' title='Show/Hide data repr'><svg class='icon xr-icon-database'><use xlink:href='#icon-database'></use></svg></label><div class='xr-var-attrs'><dl class='xr-attrs'><dt><span>contentType :</span></dt><dd>referenceInformation</dd><dt><span>description :</span></dt><dd>The 1-based fbswath_nx identifies the swath associated with each element. There are the same number of elements in the group /freeboard_swath_segment and in each of the /GTx/freeboard_beam_segment groups. The fbswath_nx identifies the fbswath_refsurf_height used to compute the fbswath_fb_height. It is the same index number that idenitifies the beam_refsurf_height to its swath and the beam_refsurf_height used to computed the beam_fb_height.</dd><dt><span>long_name :</span></dt><dd>Index to freeboard swath segment</dd><dt><span>source :</span></dt><dd>ATBD section 5</dd><dt><span>units :</span></dt><dd>1</dd></dl></div><div class='xr-var-data'><pre>[134 values with dtype=int32]</pre></div></li></ul></div></li><li class='xr-section-item'><input id='section-03d6da00-7bcb-4806-a05c-8e84ba312039' class='xr-section-summary-in' type='checkbox'  ><label for='section-03d6da00-7bcb-4806-a05c-8e84ba312039' class='xr-section-summary' >Indexes: <span>(2)</span></label><div class='xr-section-inline-details'></div><div class='xr-section-details'><ul class='xr-var-list'><li class='xr-var-item'><div class='xr-index-name'><div>delta_time</div></div><div class='xr-index-preview'>PandasIndex</div><div></div><input id='index-e0893f08-5bf9-4a92-96b8-49d393f0cb41' class='xr-index-data-in' type='checkbox'/><label for='index-e0893f08-5bf9-4a92-96b8-49d393f0cb41' title='Show/Hide index repr'><svg class='icon xr-icon-database'><use xlink:href='#icon-database'></use></svg></label><div class='xr-index-data'><pre>PandasIndex(DatetimeIndex([&#x27;2020-03-29 04:40:49.225437608&#x27;,\n",
       "               &#x27;2020-03-29 04:40:50.640872272&#x27;,\n",
       "               &#x27;2020-03-29 04:40:52.056111888&#x27;,\n",
       "               &#x27;2020-03-29 04:40:53.471433368&#x27;,\n",
       "               &#x27;2020-03-29 04:40:54.886582760&#x27;,\n",
       "               &#x27;2020-03-29 04:40:56.301597016&#x27;,\n",
       "               &#x27;2020-03-29 04:40:57.716690272&#x27;,\n",
       "               &#x27;2020-03-29 04:40:59.131839480&#x27;,\n",
       "               &#x27;2020-03-29 04:41:00.547042744&#x27;,\n",
       "               &#x27;2020-03-29 04:41:01.962296560&#x27;,\n",
       "               ...\n",
       "               &#x27;2020-03-29 04:52:59.904639512&#x27;,\n",
       "               &#x27;2020-03-29 04:53:01.319828016&#x27;,\n",
       "               &#x27;2020-03-29 04:53:02.734836640&#x27;,\n",
       "               &#x27;2020-03-29 04:53:04.149684416&#x27;,\n",
       "               &#x27;2020-03-29 04:53:05.564564688&#x27;,\n",
       "               &#x27;2020-03-29 04:53:06.979463352&#x27;,\n",
       "               &#x27;2020-03-29 04:53:08.394461008&#x27;,\n",
       "               &#x27;2020-03-29 04:53:09.809390512&#x27;,\n",
       "               &#x27;2020-03-29 04:53:11.224301888&#x27;,\n",
       "               &#x27;2020-03-29 04:53:12.639178472&#x27;],\n",
       "              dtype=&#x27;datetime64[ns]&#x27;, name=&#x27;delta_time&#x27;, length=134, freq=None))</pre></div></li><li class='xr-var-item'><div class='xr-index-name'><div>ds_si_hist_bins</div></div><div class='xr-index-preview'>PandasIndex</div><div></div><input id='index-7a75d9a9-e291-4d86-b929-d941ad3f55fe' class='xr-index-data-in' type='checkbox'/><label for='index-7a75d9a9-e291-4d86-b929-d941ad3f55fe' title='Show/Hide index repr'><svg class='icon xr-icon-database'><use xlink:href='#icon-database'></use></svg></label><div class='xr-index-data'><pre>PandasIndex(Int64Index([  1,   2,   3,   4,   5,   6,   7,   8,   9,  10,\n",
       "            ...\n",
       "            152, 153, 154, 155, 156, 157, 158, 159, 160, 161],\n",
       "           dtype=&#x27;int64&#x27;, name=&#x27;ds_si_hist_bins&#x27;, length=161))</pre></div></li></ul></div></li><li class='xr-section-item'><input id='section-5fc069bf-eebb-42df-a2ff-2cd7cbe7d3cd' class='xr-section-summary-in' type='checkbox'  checked><label for='section-5fc069bf-eebb-42df-a2ff-2cd7cbe7d3cd' class='xr-section-summary' >Attributes: <span>(2)</span></label><div class='xr-section-inline-details'></div><div class='xr-section-details'><dl class='xr-attrs'><dt><span>Description :</span></dt><dd>Contains freeboard estimate and associated height segment parameters for only the sea ice segments by beam.</dd><dt><span>data_rate :</span></dt><dd>Data within this group are stored at the freeboard swath segment rate.</dd></dl></div></li></ul></div></div>"
      ],
      "text/plain": [
       "<xarray.Dataset>\n",
       "Dimensions:                        (delta_time: 134, ds_si_hist_bins: 161)\n",
       "Coordinates:\n",
       "  * delta_time                     (delta_time) datetime64[ns] 2020-03-29T04:...\n",
       "  * ds_si_hist_bins                (ds_si_hist_bins) int32 1 2 3 ... 159 160 161\n",
       "    latitude                       (delta_time) float64 -67.66 -67.75 ... -65.26\n",
       "    longitude                      (delta_time) float64 ...\n",
       "Data variables: (12/16)\n",
       "    beam_fb_height                 (delta_time) float32 nan nan ... nan nan\n",
       "    beam_fb_hist                   (delta_time, ds_si_hist_bins) int16 ...\n",
       "    beam_fb_length                 (delta_time) float32 ...\n",
       "    beam_fb_sigma                  (delta_time) float32 ...\n",
       "    beam_lead_n                    (delta_time) int32 ...\n",
       "    beam_lead_ndx                  (delta_time) int32 ...\n",
       "    ...                             ...\n",
       "    beam_refsurf_geoid_free2mean   (delta_time) float32 ...\n",
       "    beam_refsurf_height            (delta_time) float32 ...\n",
       "    beam_refsurf_interp_flag       (delta_time) int16 ...\n",
       "    beam_refsurf_mss               (delta_time) float32 ...\n",
       "    beam_refsurf_sigma             (delta_time) float32 ...\n",
       "    fbswath_ndx                    (delta_time) int32 ...\n",
       "Attributes:\n",
       "    Description:  Contains freeboard estimate and associated height segment p...\n",
       "    data_rate:    Data within this group are stored at the freeboard swath se..."
      ]
     },
     "execution_count": 111,
     "metadata": {},
     "output_type": "execute_result"
    }
   ],
   "source": [
    "ds"
   ]
  },
  {
   "cell_type": "markdown",
   "id": "53b65f81-a3fb-4602-bd6c-a1184fd9c47c",
   "metadata": {
    "user_expressions": []
   },
   "source": [
    "Using average values for sea ice thickness conversions from:\n",
    "* Tilling, R.L., Ridout, A. and Shepherd, A. (2018) ‘Estimating Arctic sea ice thickness and volume using cryosat-2 Radar Altimeter Data’, Advances in Space Research, 62(6), pp. 1203–1225. doi:10.1016/j.asr.2017.10.051.\n",
    "* Zhao, J. et al. (2019) ‘Observation and thermodynamic modeling of the influence of snow cover on landfast sea ice thickness in Prydz Bay, East Antarctica’, Cold Regions Science and Technology, 168, p. 102869. doi:10.1016/j.coldregions.2019.102869. "
   ]
  },
  {
   "cell_type": "code",
   "execution_count": 36,
   "id": "3ae4005b-8982-4ba7-9e90-b01e6e4493af",
   "metadata": {
    "tags": []
   },
   "outputs": [
    {
     "ename": "NameError",
     "evalue": "name 'ds' is not defined",
     "output_type": "error",
     "traceback": [
      "\u001b[0;31m---------------------------------------------------------------------------\u001b[0m",
      "\u001b[0;31mNameError\u001b[0m                                 Traceback (most recent call last)",
      "Cell \u001b[0;32mIn [36], line 1\u001b[0m\n\u001b[0;32m----> 1\u001b[0m lat \u001b[38;5;241m=\u001b[39m \u001b[43mds\u001b[49m[\u001b[38;5;124m'\u001b[39m\u001b[38;5;124mlatitude\u001b[39m\u001b[38;5;124m'\u001b[39m]\n\u001b[1;32m      2\u001b[0m lon \u001b[38;5;241m=\u001b[39m ds[\u001b[38;5;124m'\u001b[39m\u001b[38;5;124mlongitude\u001b[39m\u001b[38;5;124m'\u001b[39m]\n\u001b[1;32m      3\u001b[0m fb \u001b[38;5;241m=\u001b[39m ds[\u001b[38;5;124m'\u001b[39m\u001b[38;5;124mbeam_fb_height\u001b[39m\u001b[38;5;124m'\u001b[39m]\n",
      "\u001b[0;31mNameError\u001b[0m: name 'ds' is not defined"
     ]
    }
   ],
   "source": [
    "lat = ds['latitude']\n",
    "lon = ds['longitude']\n",
    "fb = ds['beam_fb_height']\n",
    "denw = 1023.9\n",
    "dens = 324\n",
    "densi = 916.7\n",
    "depsnow = 0.5"
   ]
  },
  {
   "cell_type": "markdown",
   "id": "dd101b6f-aaef-45e5-a17f-931fbd816a7a",
   "metadata": {
    "user_expressions": []
   },
   "source": [
    "Ice thickness assumption based equation\n",
    "\n",
    "hi = ((fb*1023.9)+(depsnow*dens))/((denw-densi))"
   ]
  },
  {
   "cell_type": "code",
   "execution_count": 73,
   "id": "d6efddf0-5f72-4a3a-bb3a-3127a7803b39",
   "metadata": {
    "tags": []
   },
   "outputs": [
    {
     "name": "stdout",
     "output_type": "stream",
     "text": [
      "<xarray.DataArray 'beam_fb_height' (delta_time: 134)>\n",
      "array([      nan,       nan, 3.8723173, 3.6157324, 3.1030154, 3.3516283,\n",
      "       3.2523215,       nan,       nan,       nan,       nan,       nan,\n",
      "             nan,       nan,       nan,       nan,       nan,       nan,\n",
      "             nan,       nan,       nan,       nan,       nan,       nan,\n",
      "             nan,       nan,       nan, 1.7288975, 1.8959781, 2.1210823,\n",
      "       2.1104016,       nan, 1.9919237, 2.1267016, 3.1781929, 2.885448 ,\n",
      "       2.664938 , 3.2048972, 2.8398452, 3.9663863, 3.4659884, 2.6357305,\n",
      "       3.6761487, 4.0299926, 3.6700246, 2.8774993, 2.5954428, 2.5393302,\n",
      "       2.7660499, 2.6932137, 2.6932213, 2.8353922, 2.851151 , 3.1260512,\n",
      "       2.9959972, 2.6453133, 2.66468  , 2.9061327, 5.6533318, 5.1617455,\n",
      "       2.8210552, 3.5794194, 3.2635813, 2.8882883, 3.8046358,       nan,\n",
      "             nan, 3.0630426, 2.9450004, 3.0135512, 2.7723863, 3.8653555,\n",
      "       3.1428635, 3.2290425, 3.8469837, 4.096751 , 3.5842583, 2.8819008,\n",
      "       3.222313 , 3.4140995, 2.706538 , 2.5727146, 2.7426786, 2.831855 ,\n",
      "       2.54654  , 3.1951852, 2.840312 , 2.5631979, 3.6940274, 3.7164974,\n",
      "             nan,       nan, 2.4802833, 2.7267964, 3.5675328, 2.1413624,\n",
      "       3.2796042, 3.7593656, 4.8300595, 4.771426 , 3.9799023, 4.3786936,\n",
      "       3.0052018, 4.2094374, 4.241405 , 3.1115394,       nan,       nan,\n",
      "             nan,       nan,       nan,       nan,       nan,       nan,\n",
      "             nan,       nan, 3.7368736, 2.7576642, 3.3743145, 3.6681345,\n",
      "       3.6674025, 4.603818 , 3.0596895,       nan,       nan,       nan,\n",
      "             nan,       nan,       nan,       nan,       nan,       nan,\n",
      "             nan,       nan], dtype=float32)\n",
      "Coordinates:\n",
      "  * delta_time  (delta_time) datetime64[ns] 2020-03-29T04:40:49.225437608 ......\n",
      "    latitude    (delta_time) float64 -67.66 -67.75 -67.84 ... -65.35 -65.26\n",
      "    longitude   (delta_time) float64 -42.45 -42.48 -42.51 ... 143.8 143.8 143.8\n"
     ]
    }
   ],
   "source": [
    "#Looping through all values to calculate ice thickness\n",
    "for x in fb:\n",
    "    hi = ((fb*1023.9)+(depsnow*dens))/((denw-densi))\n",
    "print (hi)"
   ]
  },
  {
   "cell_type": "code",
   "execution_count": 35,
   "id": "957a37eb-d927-4b34-935a-a674a4c8b7d0",
   "metadata": {
    "tags": []
   },
   "outputs": [
    {
     "ename": "NameError",
     "evalue": "name 'lat' is not defined",
     "output_type": "error",
     "traceback": [
      "\u001b[0;31m---------------------------------------------------------------------------\u001b[0m",
      "\u001b[0;31mNameError\u001b[0m                                 Traceback (most recent call last)",
      "Cell \u001b[0;32mIn [35], line 6\u001b[0m\n\u001b[1;32m      4\u001b[0m edgecolor\u001b[38;5;241m=\u001b[39m\u001b[38;5;124m'\u001b[39m\u001b[38;5;124mblack\u001b[39m\u001b[38;5;124m'\u001b[39m\n\u001b[1;32m      5\u001b[0m alpha\u001b[38;5;241m=\u001b[39m\u001b[38;5;241m0.2\u001b[39m\n\u001b[0;32m----> 6\u001b[0m plt\u001b[38;5;241m.\u001b[39mscatter(\u001b[43mlat\u001b[49m,fb,s\u001b[38;5;241m=\u001b[39m\u001b[38;5;241m2\u001b[39m, c\u001b[38;5;241m=\u001b[39m\u001b[38;5;124m'\u001b[39m\u001b[38;5;124mo\u001b[39m\u001b[38;5;124m'\u001b[39m)\n\u001b[1;32m      7\u001b[0m plt\u001b[38;5;241m.\u001b[39mxlabel(\u001b[38;5;124m\"\u001b[39m\u001b[38;5;124mlatitude\u001b[39m\u001b[38;5;124m\"\u001b[39m, fontsize\u001b[38;5;241m=\u001b[39m\u001b[38;5;241m10\u001b[39m)\n\u001b[1;32m      8\u001b[0m plt\u001b[38;5;241m.\u001b[39mylabel(\u001b[38;5;124m\"\u001b[39m\u001b[38;5;124mfreeboard(m)\u001b[39m\u001b[38;5;124m\"\u001b[39m, fontsize\u001b[38;5;241m=\u001b[39m\u001b[38;5;241m10\u001b[39m)\n",
      "\u001b[0;31mNameError\u001b[0m: name 'lat' is not defined"
     ]
    }
   ],
   "source": [
    "sns.set_style(\"whitegrid\")\n",
    "plt.rcParams.update({'font.size':10})\n",
    "width = 0.2\n",
    "edgecolor='black'\n",
    "alpha=0.2\n",
    "plt.scatter(lat,fb,s=2, c='o')\n",
    "plt.xlabel(\"latitude\", fontsize=10)\n",
    "plt.ylabel(\"freeboard(m)\", fontsize=10)"
   ]
  },
  {
   "cell_type": "code",
   "execution_count": 75,
   "id": "d55589e0-841c-40a0-a11c-b87e0e03132e",
   "metadata": {
    "tags": []
   },
   "outputs": [
    {
     "data": {
      "text/plain": [
       "Text(0, 0.5, 'ice thickness(m)')"
      ]
     },
     "execution_count": 75,
     "metadata": {},
     "output_type": "execute_result"
    },
    {
     "data": {
      "image/png": "[encoded data removed]",
      "text/plain": [
       "<Figure size 640x480 with 1 Axes>"
      ]
     },
     "metadata": {},
     "output_type": "display_data"
    }
   ],
   "source": [
    "sns.set_style(\"whitegrid\")\n",
    "plt.rcParams.update({'font.size':10})\n",
    "width = 0.2\n",
    "edgecolor='black'\n",
    "alpha=0.2\n",
    "plt.scatter(lat,hi,s=2)\n",
    "plt.xlabel(\"latitude\", fontsize=10)\n",
    "plt.ylabel(\"ice thickness(m)\", fontsize=10)"
   ]
  },
  {
   "cell_type": "markdown",
   "id": "a384c32e-acbd-46a2-a684-7c022a301bcb",
   "metadata": {
    "user_expressions": []
   },
   "source": [
    "We might want to look at the change in ice thickness over time for each trackline.\n",
    "However, because of the mobility of ice in the Antartic Ocean, the ice floes detected along this track, is unlikely to recurr along track some time later. Even more so, the ice featurecan change through erosion, congelation etc. It would therefore be best to track specific floes over time. "
   ]
  }
 ],
 "metadata": {
  "kernelspec": {
   "display_name": "Python 3 (ipykernel)",
   "language": "python",
   "name": "python3"
  },
  "language_info": {
   "codemirror_mode": {
    "name": "ipython",
    "version": 3
   },
   "file_extension": ".py",
   "mimetype": "text/x-python",
   "name": "python",
   "nbconvert_exporter": "python",
   "pygments_lexer": "ipython3",
   "version": "3.10.12"
  }
 },
 "nbformat": 4,
 "nbformat_minor": 5
}
